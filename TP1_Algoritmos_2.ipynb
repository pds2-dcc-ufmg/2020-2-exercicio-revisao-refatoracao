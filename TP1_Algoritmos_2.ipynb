{
  "nbformat": 4,
  "nbformat_minor": 0,
  "metadata": {
    "colab": {
      "name": "TP1 - Algoritmos 2.ipynb",
      "provenance": [],
      "collapsed_sections": [],
      "toc_visible": true,
      "authorship_tag": "ABX9TyMBlAXRIpTxhoQTbDIfvqxG"
    },
    "kernelspec": {
      "name": "python3",
      "display_name": "Python 3"
    },
    "language_info": {
      "name": "python"
    }
  },
  "cells": [
    {
      "cell_type": "code",
      "execution_count": 1,
      "metadata": {
        "id": "eTNPgkNBar8h"
      },
      "outputs": [],
      "source": [
        "import numpy as np\n",
        "import heapq"
      ]
    },
    {
      "cell_type": "code",
      "source": [
        "def get_distance(p1, p2):\n",
        "  return np.sqrt(np.sum(np.square(p1 - p2)))"
      ],
      "metadata": {
        "id": "yaBzQHfFkbwO"
      },
      "execution_count": 2,
      "outputs": []
    },
    {
      "cell_type": "markdown",
      "source": [
        "OBS: heapsort ( - memória auxiliar)"
      ],
      "metadata": {
        "id": "89CQibsGl6EJ"
      }
    },
    {
      "cell_type": "code",
      "source": [
        ""
      ],
      "metadata": {
        "id": "C7m-I-HQ8QH0"
      },
      "execution_count": null,
      "outputs": []
    },
    {
      "cell_type": "code",
      "source": [
        "class Node:\n",
        "  def __init__(self, left_node, right_node, point):\n",
        "    self.left_node = left_node\n",
        "    self.right_node = right_node\n",
        "    self.point = point\n",
        "\n",
        "  def is_leaf(self):\n",
        "    return self.left_node == None and self.right_node == None\n",
        "\n",
        "class Kd_tree:\n",
        "  def __init__(self, dataset, ndim):\n",
        "    self.ndim = ndim\n",
        "    self.root = self.build_kd_tree(dataset)\n",
        "\n",
        "  def build_kd_tree(self, dataset, depth=0):\n",
        "    dataset_size = len(dataset)\n",
        "    current_dimension = (depth) % self.ndim\n",
        "    dataset = dataset[np.argsort(dataset[:, current_dimension], kind='heapsort')]\n",
        "    if(dataset_size) == 1:\n",
        "      return Node(None, None, dataset[0])\n",
        "    else:\n",
        "      half = dataset_size // 2\n",
        "      left = self.build_kd_tree(dataset[: half], depth+1)\n",
        "      right = self.build_kd_tree(dataset[half :], depth+1)\n",
        "      return Node(left, right, dataset[half-1]) \n",
        "\n",
        "  def recursive_k_nearest(self, k, current_node, point, priority_heap, depth=0):\n",
        "    if(current_node == None):\n",
        "      return\n",
        "    current_dimension = depth % self.ndim\n",
        "    distance = get_distance(point, current_node.point)\n",
        "  \n",
        "    if(current_node.is_leaf() and len(priority_heap) < k):\n",
        "      heapq.heappush(priority_heap, (-distance, current_node.point))\n",
        "    elif(current_node.is_leaf() and distance < -priority_heap[0][0]):\n",
        "      heapq.heappushpop(priority_heap, (-distance, current_node.point))\n",
        "\n",
        "    next_branch, other_branch = None, None\n",
        "\n",
        "    if(point[current_dimension] < current_node.point[current_dimension]):\n",
        "      next_branch, other_branch = current_node.left_node, current_node.right_node\n",
        "    else: \n",
        "      next_branch, other_branch = current_node.right_node, current_node.left_node\n",
        "\n",
        "    self.recursive_k_nearest(k, next_branch, point, priority_heap, depth+1)\n",
        "    line_shortest_distance = point[current_dimension] - current_node.point[current_dimension]\n",
        "\n",
        "    if(distance >= line_shortest_distance ** 2 or len(priority_heap) < k ):\n",
        "      self.recursive_k_nearest(k, other_branch, point, priority_heap, depth+1)\n",
        "\n",
        "  def get_k_nearest(self, k, point):\n",
        "    heap = []\n",
        "    self.recursive_k_nearest(k, self.root, point, heap)\n",
        "    return heap\n",
        "\n",
        "  def get_three_structure(self, current_node, depth = 0):\n",
        "    if(current_node.right_node == None and current_node.left_node == None):\n",
        "      print(f'{depth}: {current_node.point}')\n",
        "    else:\n",
        "      self.get_three_structure(current_node.left_node, depth+1)\n",
        "      self.get_three_structure(current_node.right_node, depth+1)\n",
        "\n",
        "  def print_three(self):\n",
        "    self.get_three_structure(self.root)"
      ],
      "metadata": {
        "id": "iOnFq2YAbBMZ"
      },
      "execution_count": 29,
      "outputs": []
    },
    {
      "cell_type": "code",
      "source": [
        "data = np.array([\n",
        "    [4,4,1],\n",
        "    [3,3,1],\n",
        "    [2,2,1],\n",
        "    [1,1,1],\n",
        "    [5,5,1],\n",
        "    [6,6,1],\n",
        "    [8,8,1],\n",
        "    [7,7,1],\n",
        "])\n",
        "\n",
        "tree = Kd_tree(data, 2)\n",
        "tree.get_k_nearest(4, np.array([0,0,1]))\n"
      ],
      "metadata": {
        "id": "b0BwHVOiqrah",
        "colab": {
          "base_uri": "https://localhost:8080/"
        },
        "outputId": "d9a3e50c-2b0b-4c2e-856f-2c6831d62c17"
      },
      "execution_count": 16,
      "outputs": [
        {
          "output_type": "execute_result",
          "data": {
            "text/plain": [
              "[(-5.656854249492381, array([4, 4, 1])),\n",
              " (-4.242640687119285, array([3, 3, 1])),\n",
              " (-2.8284271247461903, array([2, 2, 1])),\n",
              " (-1.4142135623730951, array([1, 1, 1]))]"
            ]
          },
          "metadata": {},
          "execution_count": 16
        }
      ]
    },
    {
      "cell_type": "code",
      "source": [
        "\n",
        "def get_datasets_from_file(filepath, train_size = 0.7, seed = 42):\n",
        "  dataset = np.genfromtxt(filepath, delimiter = ',')\n",
        "  num_train_instances = int(len(dataset) * train_size)\n",
        "  if(seed is not None):\n",
        "    np.random.seed(seed)\n",
        "  np.random.shuffle(dataset)\n",
        "  train_set, test_set = dataset[:num_train_instances], dataset[num_train_instances:]\n",
        "  return (train_set, test_set)"
      ],
      "metadata": {
        "id": "HCyU6_07p4lF"
      },
      "execution_count": 18,
      "outputs": []
    },
    {
      "cell_type": "code",
      "source": [
        "train_set, test_set = get_datasets_from_file('banana.csv')"
      ],
      "metadata": {
        "id": "Df6x1hg7gVIt"
      },
      "execution_count": 20,
      "outputs": []
    },
    {
      "cell_type": "code",
      "source": [
        "class K_neighbours_classifier:\n",
        "  def __init__(self, k = 2):\n",
        "    self.k = k\n",
        "  \n",
        "  def fit(self, dataset, num_of_features):\n",
        "    self.kd_tree = Kd_tree(dataset, num_of_features)\n",
        "\n",
        "  def predict(self, point):\n",
        "    knn_heap = self.kd_tree.get_k_nearest(self.k, np.array(point))\n",
        "    "
      ],
      "metadata": {
        "id": "8h2kpjusgmoY"
      },
      "execution_count": 30,
      "outputs": []
    }
  ]
}